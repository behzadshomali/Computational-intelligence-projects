{
  "cells": [
    {
      "cell_type": "code",
      "execution_count": 3,
      "metadata": {
        "id": "TACBDxdoONGI"
      },
      "outputs": [],
      "source": [
        "import numpy as np\n",
        "import pandas as pd\n",
        "import math \n",
        "import matplotlib.pyplot as plt\n",
        "from scipy import spatial\n",
        "import pickle\n",
        "from collections import Counter"
      ]
    },
    {
      "cell_type": "code",
      "source": [
        "from google.colab import drive\n",
        "drive.mount('/content/drive')"
      ],
      "metadata": {
        "colab": {
          "base_uri": "https://localhost:8080/"
        },
        "id": "mJ13qfA0OaY6",
        "outputId": "0abe0815-e17c-43ac-aeb4-1c8851dc3341"
      },
      "execution_count": 2,
      "outputs": [
        {
          "output_type": "stream",
          "name": "stdout",
          "text": [
            "Mounted at /content/drive\n"
          ]
        }
      ]
    },
    {
      "cell_type": "code",
      "source": [
        "with open('/content/drive/MyDrive/NLP_proj/words.pkl', 'rb') as f:\n",
        "    words = pickle.load(f)\n",
        "\n",
        "with open('/content/drive/MyDrive/NLP_proj/words_vectors.pkl', 'rb') as f:\n",
        "    x = np.asarray(pickle.load(f))"
      ],
      "metadata": {
        "id": "fxeTzsohOfi-"
      },
      "execution_count": 11,
      "outputs": []
    },
    {
      "cell_type": "code",
      "execution_count": 12,
      "metadata": {
        "id": "fKcG_eqCONGN"
      },
      "outputs": [],
      "source": [
        "n = len(words) \n",
        "\n",
        "d = np.zeros((n,n))\n",
        "d_cur = np.zeros((n,n))"
      ]
    },
    {
      "cell_type": "markdown",
      "metadata": {
        "id": "jikjQ6LEONGQ"
      },
      "source": [
        "# calculate distance matrix"
      ]
    },
    {
      "cell_type": "code",
      "execution_count": null,
      "metadata": {
        "id": "vw98NQ8UONGS"
      },
      "outputs": [],
      "source": [
        "for i in range (0,n):\n",
        "    if i % 1000 == 0:\n",
        "        print(f'{i}/{n}')\n",
        "    for j in range (i,n):\n",
        "        d[i][j] = spatial.distance.cosine(x[i], x[j])\n",
        "        d[j][i] = d[i][j]"
      ]
    },
    {
      "cell_type": "markdown",
      "metadata": {
        "id": "3EBUtEOwONGX"
      },
      "source": [
        "# finde keys"
      ]
    },
    {
      "cell_type": "code",
      "execution_count": null,
      "metadata": {
        "id": "yqGADbj7ONGX"
      },
      "outputs": [],
      "source": [
        "def detect_key(d_cur , c_cur):\n",
        "    m = d_cur.shape[0]\n",
        "    temp = []\n",
        "    k = []\n",
        "    s = []\n",
        "    n = 0\n",
        "#############   find I1    ############# min mean\n",
        "\n",
        "    for i in range (0,m):# i1\n",
        "        sum = 0\n",
        "        for j in range (0,m):\n",
        "            sum += d_cur[i][j]\n",
        "\n",
        "        temp.append(sum / m) \n",
        "\n",
        "    i1 = temp.index(sorted(temp)[0])  \n",
        "\n",
        "\n",
        "    for t in range (0,m):# update s and k for i1\n",
        "        if t != i1:\n",
        "            k.append(t)\n",
        "    s.append(i1)\n",
        "\n",
        "########################################\n",
        "\n",
        "\n",
        "\n",
        "    while( n < c_cur-1 ):\n",
        "        min_i = []\n",
        "#############   find In    ############# max min\n",
        "\n",
        "        for i in k: #finde min \n",
        "            min = 8000\n",
        "            for j in s:\n",
        "                if d_cur[i][j] < min:\n",
        "                    min = d_cur[i][j]\n",
        "            min_i.append(min)# list of min values in each row\n",
        "\n",
        "        p = 0\n",
        "        for i in k:# find max of mins\n",
        "            for j in s:\n",
        "                if d_cur[i][j] == max( min_i):\n",
        "                    i_n = i\n",
        "                    k.remove(i_n)\n",
        "                    p = 1\n",
        "                    break\n",
        "            if p == 1:\n",
        "                break\n",
        "\n",
        "        s.append(i_n)\n",
        "\n",
        "        # unique_numbers = set(s)\n",
        "        # ss = []\n",
        "\n",
        "        # for number in unique_numbers:\n",
        "        #     ss.append(number)\n",
        "        # s = ss\n",
        "        n+=1\n",
        "    return s\n",
        "\n",
        "     \n",
        "\n"
      ]
    },
    {
      "cell_type": "markdown",
      "metadata": {
        "id": "HsLPx_RTONGT"
      },
      "source": [
        "# main code"
      ]
    },
    {
      "cell_type": "code",
      "execution_count": null,
      "metadata": {
        "id": "ohozYviNONGU"
      },
      "outputs": [],
      "source": [
        "def key_clustering( dd , c_target, k1 , g ):\n",
        "\n",
        "\n",
        "########################################### initial\n",
        "\n",
        "    n = dd.shape[0]\n",
        "    k = k1+1\n",
        "    end_key = 2\n",
        "    list_k=[]\n",
        "    r = np.zeros((n,k))\n",
        "\n",
        "############################################ calculate R\n",
        "    for i in range (0,n):\n",
        "        list_k = sorted(dd[i])[0:k] # take 2 min value k = 2 \n",
        "        for j in range(0,n):  # finde index of that vslues\n",
        "            for x in range(0,len(list_k)):\n",
        "                if dd[i][j] == list_k[x] :\n",
        "                        r[i][x] = j\n",
        "\n",
        "                                         \n",
        "    l = list(range(n))\n",
        "    c_per = n\n",
        "    c_cur = math.floor(n/g)\n",
        "    s_cur = []\n",
        "    ########################### calculate d_cur\n",
        "\n",
        "    for i in range (0,n):\n",
        "        for j in range(0,n):\n",
        "            temp = 0\n",
        "            for a in range (0,k):\n",
        "                for b in range (0,k):\n",
        "                    temp = temp + dd[int(r[i][a] ),int(r[j][b])]\n",
        "            d_cur[i][j] = temp / ((k)*(k))\n",
        "    \n",
        "    ############## loop #############\n",
        "\n",
        "    while c_cur > c_target :\n",
        "            s_cur = detect_key(d_cur ,c_cur)\n",
        "\n",
        "            ############## update labels ##############\n",
        "            for i in range(len(l)):\n",
        "                    min = 80000 # initialize with infinity\n",
        "                    if(l[i] not in s_cur):\n",
        "                        for j in s_cur:\n",
        "                            if d_cur[l[i],j] < min:\n",
        "                                min = d_cur[ l[i] , j ]\n",
        "                                index = j\n",
        "                        l[i] = index\n",
        "    \n",
        "            #################  update distance ###############\n",
        "            unique_values =list( Counter(l).keys()) # equals to list(set(words))\n",
        "            unique_count = list(Counter(l).values()) # counts the elements' frequency\n",
        "            samp = []\n",
        "\n",
        "            for i in unique_count:\n",
        "                e = np.zeros((i*(3)))\n",
        "                samp.append(e)\n",
        "            \n",
        "            p = []\n",
        "            \n",
        "            for x in range(0,len(unique_values)):\n",
        "                nn = 0\n",
        "                for y in range(0,len(l)):\n",
        "                    if unique_values[x] == l[y]:\n",
        "                        samp[x][nn] = y\n",
        "                        nn = nn+1\n",
        "\n",
        "                        for i in range(1,k):\n",
        "                            samp[x][nn] = r[y][i] \n",
        "                            nn = nn+1\n",
        "\n",
        "            sample = []\n",
        "            lo = []\n",
        "            for e in samp:\n",
        "                lo.append(list(map(int, e))) \n",
        "            \n",
        "            label_dict = dict(zip(unique_values, lo))\n",
        "\n",
        "            for x,y  in label_dict.items():\n",
        "                for p,q in label_dict.items():\n",
        "                    sum  = 0\n",
        "                    for a in y:\n",
        "                        for b in q:\n",
        "                            sum+=dd[a,b]\n",
        "\n",
        "                    d_cur[x,p] = sum /(len(q)*len(y))\n",
        "\n",
        "            c_per = c_cur\n",
        "            c_cur = math.floor(c_cur/g)\n",
        "\n",
        "    s_final = detect_key(d_cur ,c_target)\n",
        "\n",
        "    ############## update labels ##############\n",
        "    for i in range(len(l)):\n",
        "        min = 80000\n",
        "        if(l[i] not in s_final):\n",
        "            for j in s_final:\n",
        "                if d_cur[l[i],j] < min:\n",
        "                    min = d_cur[ l[i] , j ]\n",
        "                    index = j\n",
        "            l[i] = index\n",
        "\n",
        "    return l"
      ]
    },
    {
      "cell_type": "code",
      "source": [
        "dd = np.copy(d)\n",
        "c_target = 5\n",
        "k1 = 2\n",
        "g = 3\n",
        "key_clustering(dd, c_target, k1 , g)"
      ],
      "metadata": {
        "id": "p4sykgVuQzn5"
      },
      "execution_count": null,
      "outputs": []
    }
  ],
  "metadata": {
    "interpreter": {
      "hash": "da4c3f81425fee378717d63d377c57be77f21b14730899cca1fa55cca1d69c10"
    },
    "kernelspec": {
      "display_name": "Python 3",
      "language": "python",
      "name": "python3"
    },
    "language_info": {
      "codemirror_mode": {
        "name": "ipython",
        "version": 3
      },
      "file_extension": ".py",
      "mimetype": "text/x-python",
      "name": "python",
      "nbconvert_exporter": "python",
      "pygments_lexer": "ipython3",
      "version": "3.8.8"
    },
    "colab": {
      "name": "Cluster.ipynb",
      "provenance": []
    }
  },
  "nbformat": 4,
  "nbformat_minor": 0
}