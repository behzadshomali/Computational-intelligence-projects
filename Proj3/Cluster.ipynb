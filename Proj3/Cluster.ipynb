{
  "cells": [
    {
      "cell_type": "code",
      "execution_count": 3,
      "metadata": {
        "id": "TACBDxdoONGI"
      },
      "outputs": [],
      "source": [
        "import numpy as np\n",
        "import math \n",
        "from scipy import spatial\n",
        "import pickle\n",
        "from collections import Counter"
      ]
    },
    {
      "cell_type": "code",
      "execution_count": 2,
      "metadata": {
        "colab": {
          "base_uri": "https://localhost:8080/"
        },
        "id": "mJ13qfA0OaY6",
        "outputId": "0abe0815-e17c-43ac-aeb4-1c8851dc3341"
      },
      "outputs": [
        {
          "name": "stdout",
          "output_type": "stream",
          "text": [
            "Mounted at /content/drive\n"
          ]
        }
      ],
      "source": [
        "from google.colab import drive\n",
        "drive.mount('/content/drive')"
      ]
    },
    {
      "cell_type": "code",
      "execution_count": 11,
      "metadata": {
        "id": "fxeTzsohOfi-"
      },
      "outputs": [],
      "source": [
        "with open('/content/drive/MyDrive/NLP_proj/words.pkl', 'rb') as f:\n",
        "    words = pickle.load(f)\n",
        "\n",
        "with open('/content/drive/MyDrive/NLP_proj/words_vectors.pkl', 'rb') as f:\n",
        "    x = np.asarray(pickle.load(f))"
      ]
    },
    {
      "cell_type": "code",
      "execution_count": 12,
      "metadata": {
        "id": "fKcG_eqCONGN"
      },
      "outputs": [],
      "source": [
        "n = len(words) \n",
        "d = np.zeros((n,n))\n",
        "d_current = np.zeros((n,n))"
      ]
    },
    {
      "cell_type": "markdown",
      "metadata": {
        "id": "jikjQ6LEONGQ"
      },
      "source": [
        "# calculate distance matrix"
      ]
    },
    {
      "cell_type": "code",
      "execution_count": null,
      "metadata": {
        "id": "vw98NQ8UONGS"
      },
      "outputs": [],
      "source": [
        "for i in range (0,n):\n",
        "    if i % 1000 == 0:\n",
        "        print(f'{i}/{n}')\n",
        "    for j in range (i,n):\n",
        "        d[i][j] = spatial.distance.cosine(x[i], x[j])\n",
        "        d[j][i] = d[i][j]"
      ]
    },
    {
      "cell_type": "markdown",
      "metadata": {
        "id": "3EBUtEOwONGX"
      },
      "source": [
        "# find keys"
      ]
    },
    {
      "cell_type": "code",
      "execution_count": null,
      "metadata": {
        "id": "yqGADbj7ONGX"
      },
      "outputs": [],
      "source": [
        "def detect_key(d_current , c_current):\n",
        "    m = d_current.shape[0]\n",
        "    temp = []\n",
        "    k = []\n",
        "    s = []\n",
        "    n = 0\n",
        "#############   find I1    ############# min mean\n",
        "\n",
        "    for i in range (0,m):# i1\n",
        "        sum = 0\n",
        "        for j in range (0,m):\n",
        "            sum += d_current[i][j]\n",
        "\n",
        "        temp.append(sum / m) \n",
        "\n",
        "    I1 = temp.index(sorted(temp)[0])  \n",
        "\n",
        "\n",
        "    for i in range (0,m):                       # update s and k for I1\n",
        "        if i != I1:\n",
        "            k.append(i)\n",
        "    s.append(I1)\n",
        "\n",
        "########################################\n",
        "\n",
        "\n",
        "\n",
        "    while( n < c_current - 1 ):\n",
        "        min_i = []\n",
        "\n",
        "\n",
        "#############   find In    ############# max min\n",
        "\n",
        "        for i in k:                                 # find min \n",
        "            min = float(\"-infinity\")\n",
        "            for j in s:\n",
        "                if d_current[i][j] < min:\n",
        "                    min = d_current[i][j]\n",
        "            min_i.append(min)                       # list of min values in each row\n",
        "\n",
        "        p = 0\n",
        "        for i in k:                                 # find max of mins\n",
        "            for j in s:\n",
        "                if d_current[i][j] == max( min_i):\n",
        "                    i_n = i\n",
        "                    k.remove(i_n)\n",
        "                    p = 1\n",
        "                    break\n",
        "            if p == 1:\n",
        "                break\n",
        "\n",
        "        s.append(i_n)\n",
        "        n+=1\n",
        "    return s\n",
        "\n",
        "     \n",
        "\n"
      ]
    },
    {
      "cell_type": "markdown",
      "metadata": {
        "id": "HsLPx_RTONGT"
      },
      "source": [
        "# main code"
      ]
    },
    {
      "cell_type": "code",
      "execution_count": null,
      "metadata": {
        "id": "ohozYviNONGU"
      },
      "outputs": [],
      "source": [
        "def key_clustering( dd , c_target, k1 , g ):\n",
        "\n",
        "\n",
        "########################################### initial\n",
        "\n",
        "    n = dd.shape[0]\n",
        "    k = k1 + 1\n",
        "    end_key = 2\n",
        "    list_k = []\n",
        "    r = np.zeros((n,k))\n",
        "\n",
        "########################################### calculate R\n",
        "\n",
        "    for i in range (0,n):\n",
        "        list_k = sorted(dd[i])[0:k]                          # if K = 2 take 2 min value k = 2 \n",
        "        for j in range(0,n):                                 # find index of that values\n",
        "            for x in range(0,len(list_k)):\n",
        "                if dd[i][j] == list_k[x] :\n",
        "                        r[i][x] = j\n",
        "\n",
        "                                         \n",
        "    l = list(range(n))\n",
        "    c_previous = n\n",
        "    c_current = math.floor(n/g)\n",
        "    s_current = []\n",
        "    \n",
        "    ########################### calculate d_current\n",
        "\n",
        "    for i in range (0,n):\n",
        "        for j in range(0,n):\n",
        "            temp = 0\n",
        "            for a in range (0,k):\n",
        "                for b in range (0,k):\n",
        "                    temp = temp + dd[int(r[i][a] ),int(r[j][b])]\n",
        "            d_current[i][j] = temp / ((k)*(k))\n",
        "    \n",
        "    ############## loop #############\n",
        "\n",
        "    while c_current > c_target :\n",
        "            s_current = detect_key(d_current ,c_current)\n",
        "\n",
        "            ############## update labels ##############\n",
        "            \n",
        "            for i in range(len(l)):\n",
        "                    min = float(\"-infinity\")                      # initialize with infinity\n",
        "                    if(l[i] not in s_current):\n",
        "                        for j in s_current:\n",
        "                            if d_current[l[i],j] < min:\n",
        "                                min = d_current[ l[i] , j ]\n",
        "                                index = j\n",
        "                        l[i] = index\n",
        "    \n",
        "            #################  update distance ###############\n",
        "\n",
        "            unique_values =list( Counter(l).keys())             # equals to list(set(words))\n",
        "            unique_count = list(Counter(l).values())            # counts the elements' frequency\n",
        "           \n",
        "            sample = []\n",
        "            for i in unique_count:\n",
        "                e = np.zeros((i*(k)))\n",
        "                sample.append(e)\n",
        "            \n",
        "            p = []\n",
        "            \n",
        "            for x in range(0,len(unique_values)):\n",
        "                nn = 0\n",
        "                for y in range(0,len(l)):\n",
        "                    if unique_values[x] == l[y]:\n",
        "                        sample[x][nn] = y\n",
        "                        nn = nn+1\n",
        "\n",
        "                        for i in range(1,k):\n",
        "                            sample[x][nn] = r[y][i] \n",
        "                            nn = nn+1\n",
        "\n",
        "            new_temp = []\n",
        "            for e in sample:\n",
        "                new_temp.append(list(map(int, e))) \n",
        "            \n",
        "            label_dict = dict(zip(unique_values, new_temp))\n",
        "\n",
        "            for x,y  in label_dict.items():\n",
        "                for p,q in label_dict.items():\n",
        "                    sum  = 0\n",
        "                    for a in y:\n",
        "                        for b in q:\n",
        "                            sum+= dd[a,b]\n",
        "\n",
        "                    d_current[x,p] = sum /(len(q)*len(y))\n",
        "\n",
        "            c_previous = c_current\n",
        "            c_current = math.floor(c_current/g)\n",
        "\n",
        "    s_final = detect_key(d_current ,c_target)\n",
        "\n",
        "    ############## update labels ##############\n",
        "    for i in range(len(l)):\n",
        "        min = float(\"-infinity\")\n",
        "        if(l[i] not in s_final):\n",
        "            for j in s_final:\n",
        "                if d_current[l[i],j] < min:\n",
        "                    min = d_current[l[i],j]\n",
        "                    index = j\n",
        "            l[i] = index\n",
        "\n",
        "    return l"
      ]
    },
    {
      "cell_type": "code",
      "execution_count": null,
      "metadata": {
        "id": "p4sykgVuQzn5"
      },
      "outputs": [],
      "source": [
        "dd = np.copy(d)\n",
        "c_target = 5\n",
        "k1 = 2\n",
        "g = 3\n",
        "key_clustering(dd, c_target, k1 , g)"
      ]
    }
  ],
  "metadata": {
    "colab": {
      "name": "Cluster.ipynb",
      "provenance": []
    },
    "interpreter": {
      "hash": "da4c3f81425fee378717d63d377c57be77f21b14730899cca1fa55cca1d69c10"
    },
    "kernelspec": {
      "display_name": "Python 3",
      "language": "python",
      "name": "python3"
    },
    "language_info": {
      "codemirror_mode": {
        "name": "ipython",
        "version": 3
      },
      "file_extension": ".py",
      "mimetype": "text/x-python",
      "name": "python",
      "nbconvert_exporter": "python",
      "pygments_lexer": "ipython3",
      "version": "3.8.8"
    }
  },
  "nbformat": 4,
  "nbformat_minor": 0
}
