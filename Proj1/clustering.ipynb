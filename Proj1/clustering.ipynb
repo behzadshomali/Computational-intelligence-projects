{
 "cells": [
  {
   "cell_type": "code",
   "execution_count": null,
   "id": "ce99b6fc",
   "metadata": {},
   "outputs": [],
   "source": [
    "import os\n",
    "from PIL import Image\n",
    "import numpy as np\n",
    "from sklearn.preprocessing import StandardScaler\n",
    "from sklearn.cluster import KMeans\n",
    "from sklearn.cluster import DBSCAN\n",
    "from sklearn.cluster import AgglomerativeClustering"
   ]
  },
  {
   "cell_type": "code",
   "execution_count": null,
   "id": "ee2996a3",
   "metadata": {},
   "outputs": [],
   "source": [
    "def read_data(path):\n",
    "    X = []\n",
    "    Y = []\n",
    "    for file_name in os.listdir(path):\n",
    "        img = Image.open(f'{path}/{file_name}').convert('L')\n",
    "        img = np.reshape(img, (1, -1))\n",
    "        label = int(file_name.split('_')[-1].split('.')[0])\n",
    "\n",
    "        X.append(img)\n",
    "        Y.append(label)\n",
    "        \n",
    "    return np.vstack(X), np.asarray(Y)"
   ]
  },
  {
   "cell_type": "code",
   "execution_count": null,
   "id": "384fb17a",
   "metadata": {},
   "outputs": [],
   "source": [
    "def rand_index_metric(true_labels, pred_labels):\n",
    "    confusion_matrix = {\n",
    "        'TP': 0,\n",
    "        'TN': 0,\n",
    "        'FP': 0,\n",
    "        'FN': 0\n",
    "    }\n",
    "    data_size = pred_labels.shape[0]\n",
    "    for i in range(data_size-1):\n",
    "        for j in range(i+1, data_size):\n",
    "            if True:\n",
    "                if true_labels[i] == true_labels[j]: # positive case\n",
    "                    if pred_labels[i] == pred_labels[j]:\n",
    "                        confusion_matrix['TP'] += 1\n",
    "                    else:\n",
    "                        confusion_matrix['FP'] += 1\n",
    "                else: # negative case\n",
    "                    if pred_labels[i] != pred_labels[j]:\n",
    "                        confusion_matrix['TN'] += 1\n",
    "                    else:\n",
    "                        confusion_matrix['FN'] += 1\n",
    "    \n",
    "    rand_indx = (confusion_matrix['TP']+confusion_matrix['TN']) / sum(list(confusion_matrix.values()))\n",
    "    return rand_indx, confusion_matrix"
   ]
  },
  {
   "cell_type": "code",
   "execution_count": null,
   "id": "c677d112",
   "metadata": {},
   "outputs": [],
   "source": [
    "def normalize_data(data, mode):\n",
    "    if mode == 'none':\n",
    "        return data\n",
    "    if mode == 'standardScaler':\n",
    "        return StandardScaler().fit_transform(data)\n",
    "    if mode == 'range':\n",
    "        return data/255.\n",
    "    raise Exception('Invalid mode! mode should be from the following list: [\"none\", \"standardScaler\", \"range\"]')"
   ]
  },
  {
   "cell_type": "code",
   "execution_count": null,
   "id": "e0256ba3",
   "metadata": {},
   "outputs": [],
   "source": [
    "data, Y = read_data('/Users/behzad/Downloads/ORL')"
   ]
  },
  {
   "cell_type": "code",
   "execution_count": null,
   "id": "ba4bf494",
   "metadata": {
    "scrolled": true
   },
   "outputs": [],
   "source": [
    "print('X shape:', X.shape)\n",
    "print('Y shape:', Y.shape)"
   ]
  },
  {
   "cell_type": "markdown",
   "id": "dbc8dbe1",
   "metadata": {},
   "source": [
    "## KMeans"
   ]
  },
  {
   "cell_type": "code",
   "execution_count": null,
   "id": "7337ffc5",
   "metadata": {},
   "outputs": [],
   "source": [
    "mode = 'none'"
   ]
  },
  {
   "cell_type": "code",
   "execution_count": null,
   "id": "d3dd0992",
   "metadata": {},
   "outputs": [],
   "source": [
    "X = normalize_data(data, mode)"
   ]
  },
  {
   "cell_type": "code",
   "execution_count": null,
   "id": "13f33606",
   "metadata": {},
   "outputs": [],
   "source": [
    "kmeans = KMeans(n_clusters=41, random_state=100, n_init=20).fit(X)"
   ]
  },
  {
   "cell_type": "code",
   "execution_count": null,
   "id": "2939a44a",
   "metadata": {},
   "outputs": [],
   "source": [
    "kmeans_predicted_labels = kmeans.labels_"
   ]
  },
  {
   "cell_type": "code",
   "execution_count": null,
   "id": "0d239a28",
   "metadata": {},
   "outputs": [],
   "source": [
    "rand_index_metric(Y, kmeans_predicted_labels)"
   ]
  },
  {
   "cell_type": "markdown",
   "id": "4d105a91",
   "metadata": {},
   "source": [
    "## DBSCAN"
   ]
  },
  {
   "cell_type": "code",
   "execution_count": null,
   "id": "784095e9",
   "metadata": {},
   "outputs": [],
   "source": [
    "mode = 'none'"
   ]
  },
  {
   "cell_type": "code",
   "execution_count": null,
   "id": "606149e6",
   "metadata": {},
   "outputs": [],
   "source": [
    "X = normalize_data(data, mode)"
   ]
  },
  {
   "cell_type": "code",
   "execution_count": null,
   "id": "34d87a58",
   "metadata": {},
   "outputs": [],
   "source": [
    "epsilon = 50\n",
    "min_samples = 2"
   ]
  },
  {
   "cell_type": "code",
   "execution_count": null,
   "id": "c0c841c8",
   "metadata": {},
   "outputs": [],
   "source": [
    "dbscan = DBSCAN(eps=epsilon, min_samples=min_samples).fit(X)"
   ]
  },
  {
   "cell_type": "code",
   "execution_count": null,
   "id": "b615dfdc",
   "metadata": {},
   "outputs": [],
   "source": [
    "dbscan_predicted_labels = dbscan.labels_"
   ]
  },
  {
   "cell_type": "code",
   "execution_count": null,
   "id": "5569a269",
   "metadata": {},
   "outputs": [],
   "source": [
    "rand_index_metric(Y, dbscan_predicted_labels)"
   ]
  },
  {
   "cell_type": "markdown",
   "id": "70887c89",
   "metadata": {},
   "source": [
    "## Agglomerative"
   ]
  },
  {
   "cell_type": "code",
   "execution_count": null,
   "id": "6a45167b",
   "metadata": {},
   "outputs": [],
   "source": [
    "mode = 'none'"
   ]
  },
  {
   "cell_type": "code",
   "execution_count": null,
   "id": "ce575590",
   "metadata": {},
   "outputs": [],
   "source": [
    "X = normalize_data(data, mode)"
   ]
  },
  {
   "cell_type": "code",
   "execution_count": null,
   "id": "9fbb9200",
   "metadata": {},
   "outputs": [],
   "source": [
    "n_clusters = 41\n",
    "linkage = 'complete' # {'complete', 'single', 'average'}"
   ]
  },
  {
   "cell_type": "code",
   "execution_count": null,
   "id": "fd5abea0",
   "metadata": {},
   "outputs": [],
   "source": [
    "agglomerative = AgglomerativeClustering(n_clusters=n_clusters, linkage=linkage).fit(X)"
   ]
  },
  {
   "cell_type": "code",
   "execution_count": null,
   "id": "d52a24b0",
   "metadata": {},
   "outputs": [],
   "source": [
    "agglomerative_predicted_labels = agglomerative.labels_"
   ]
  },
  {
   "cell_type": "code",
   "execution_count": null,
   "id": "b5cd6bcd",
   "metadata": {},
   "outputs": [],
   "source": [
    "rand_index_metric(Y, agglomerative_predicted_labels)"
   ]
  },
  {
   "cell_type": "markdown",
   "id": "5e923c03",
   "metadata": {},
   "source": [
    "## Enhanced DBSCAN"
   ]
  },
  {
   "cell_type": "markdown",
   "id": "ba93c839",
   "metadata": {},
   "source": [
    "To have a promising clustering using DBSCAN we have to carefully choose two hyperparameters: 1. MinPts 2. epsilon. During my experience of finding optimal parameters for this assignment, I faced many challenges to find the right epsilon and also figured out its high importance (especially in comparison with MinPts). As I had managed to find an (semi-)optimal value for MinPts, for enhancing performance of DBSCAN I picked the same value for MinPts (in this case 2) and made an effort to find a better epsilon.\n",
    "Choosing the optimal epsilon has a direct relationship with the outcome. However, finding the optimal epsilon can be overwhelming and tricky. To remedy this, I came with a automated approach which is able to find the optimal epsilon for cases we access to the groundtruth of our data. The process of finding epsilon is as follows:\n",
    "\n",
    "1. Compute distance (in this case euclidean distance) between each pair of different classes. Now we have a list of distances per each class (say class A) indicating the distances of samples of class A to all other samples from other classes\n",
    "\n",
    "2. Compute the average distances per each class. Now we have a scalar for each class. E.g., the number associated to class A indicates the average distance of between calss A and other classes' samples\n",
    "\n",
    "3. Finally, epsilon is computed as the mean of all obtained averages from the previous step. In the end, the value of epsilon is divided by a constant number(2)"
   ]
  },
  {
   "cell_type": "code",
   "execution_count": null,
   "id": "128cdc7d",
   "metadata": {},
   "outputs": [],
   "source": [
    "mode = 'standardScaler'"
   ]
  },
  {
   "cell_type": "code",
   "execution_count": null,
   "id": "f32b37e7",
   "metadata": {},
   "outputs": [],
   "source": [
    "X = normalize_data(data, mode)"
   ]
  },
  {
   "cell_type": "code",
   "execution_count": null,
   "id": "339b87cb",
   "metadata": {},
   "outputs": [],
   "source": [
    "# step 1\n",
    "distances = {}\n",
    "for i in range(Y.shape[0]-1):\n",
    "    for j in range(i+1, Y.shape[0]):\n",
    "        distances.setdefault(Y[i], [])\n",
    "        distances.setdefault(Y[j], [])\n",
    "        if Y[i] != Y[j]:\n",
    "            distances[Y[j]].append(np.linalg.norm(X[i]-X[j]))\n",
    "            distances[Y[i]].append(np.linalg.norm(X[i]-X[j]))"
   ]
  },
  {
   "cell_type": "code",
   "execution_count": null,
   "id": "24384262",
   "metadata": {},
   "outputs": [],
   "source": [
    "distances"
   ]
  },
  {
   "cell_type": "code",
   "execution_count": null,
   "id": "3af7c375",
   "metadata": {},
   "outputs": [],
   "source": [
    "# step 2\n",
    "for key, vals in distances.items():\n",
    "    distances[key] = np.mean(vals)"
   ]
  },
  {
   "cell_type": "code",
   "execution_count": null,
   "id": "87b3dd50",
   "metadata": {},
   "outputs": [],
   "source": [
    "# step 3\n",
    "epsilon = 0\n",
    "for key, vals in distances.items():\n",
    "    epsilon += vals\n",
    "epsilon /= len(list(distances.keys()))\n",
    "epsilon /= 2"
   ]
  },
  {
   "cell_type": "code",
   "execution_count": null,
   "id": "c42c3527",
   "metadata": {},
   "outputs": [],
   "source": [
    "min_samples=2"
   ]
  },
  {
   "cell_type": "code",
   "execution_count": null,
   "id": "e6a3d805",
   "metadata": {},
   "outputs": [],
   "source": [
    "dbscan = DBSCAN(eps=epsilon, min_samples=min_samples).fit(X)"
   ]
  },
  {
   "cell_type": "code",
   "execution_count": null,
   "id": "cd318f18",
   "metadata": {},
   "outputs": [],
   "source": [
    "dbscan_predicted_labels = dbscan.labels_"
   ]
  },
  {
   "cell_type": "code",
   "execution_count": null,
   "id": "295a8df4",
   "metadata": {},
   "outputs": [],
   "source": [
    "rand_index_metric(Y, dbscan_predicted_labels)"
   ]
  }
 ],
 "metadata": {
  "kernelspec": {
   "display_name": "Python 3",
   "language": "python",
   "name": "python3"
  },
  "language_info": {
   "codemirror_mode": {
    "name": "ipython",
    "version": 3
   },
   "file_extension": ".py",
   "mimetype": "text/x-python",
   "name": "python",
   "nbconvert_exporter": "python",
   "pygments_lexer": "ipython3",
   "version": "3.8.8"
  }
 },
 "nbformat": 4,
 "nbformat_minor": 5
}
