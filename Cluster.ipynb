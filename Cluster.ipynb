{
 "cells": [
  {
   "cell_type": "code",
   "execution_count": 150,
   "metadata": {},
   "outputs": [],
   "source": [
    "import numpy as np\n",
    "import pandas as pd\n",
    "import math \n",
    "import matplotlib.pyplot as plt\n",
    "from scipy import spatial\n"
   ]
  },
  {
   "cell_type": "code",
   "execution_count": 151,
   "metadata": {},
   "outputs": [],
   "source": [
    "x = [[1,1.5],[1,2],[3,6.5],[3,7],[9,0],[9,0.5],[5,0],[5,0.5],[9,9],[9,9]]\n",
    "n = len(x) \n",
    "\n",
    "d = np.zeros((n,n))\n",
    "d_cur = np.zeros((n,n))\n",
    "\n"
   ]
  },
  {
   "cell_type": "code",
   "execution_count": 152,
   "metadata": {},
   "outputs": [
    {
     "data": {
      "text/plain": [
       "<matplotlib.collections.PathCollection at 0x20649b02e50>"
      ]
     },
     "execution_count": 152,
     "metadata": {},
     "output_type": "execute_result"
    },
    {
     "data": {
      "image/png": "[encoded data removed]",
      "text/plain": [
       "<Figure size 432x288 with 1 Axes>"
      ]
     },
     "metadata": {
      "needs_background": "light"
     },
     "output_type": "display_data"
    }
   ],
   "source": [
    "f = [i[0] for i in x]\n",
    "o = [[i[1] for i in x]]\n",
    "plt.scatter(f,o)\n",
    "\n"
   ]
  },
  {
   "cell_type": "markdown",
   "metadata": {},
   "source": [
    "# calculate distance matrix"
   ]
  },
  {
   "cell_type": "code",
   "execution_count": 153,
   "metadata": {},
   "outputs": [
    {
     "name": "stdout",
     "output_type": "stream",
     "text": [
      "[[ 0.          0.5         5.38516481  5.85234996  8.1394103   8.06225775\n",
      "   4.27200187  4.12310563 10.9658561  10.9658561 ]\n",
      " [ 0.5         0.          4.9244289   5.38516481  8.24621125  8.1394103\n",
      "   4.47213595  4.27200187 10.63014581 10.63014581]\n",
      " [ 5.38516481  4.9244289   0.          0.5         8.84590301  8.48528137\n",
      "   6.80073525  6.32455532  6.5         6.5       ]\n",
      " [ 5.85234996  5.38516481  0.5         0.          9.21954446  8.84590301\n",
      "   7.28010989  6.80073525  6.32455532  6.32455532]\n",
      " [ 8.1394103   8.24621125  8.84590301  9.21954446  0.          0.5\n",
      "   4.          4.03112887  9.          9.        ]\n",
      " [ 8.06225775  8.1394103   8.48528137  8.84590301  0.5         0.\n",
      "   4.03112887  4.          8.5         8.5       ]\n",
      " [ 4.27200187  4.47213595  6.80073525  7.28010989  4.          4.03112887\n",
      "   0.          0.5         9.8488578   9.8488578 ]\n",
      " [ 4.12310563  4.27200187  6.32455532  6.80073525  4.03112887  4.\n",
      "   0.5         0.          9.39414711  9.39414711]\n",
      " [10.9658561  10.63014581  6.5         6.32455532  9.          8.5\n",
      "   9.8488578   9.39414711  0.          0.        ]\n",
      " [10.9658561  10.63014581  6.5         6.32455532  9.          8.5\n",
      "   9.8488578   9.39414711  0.          0.        ]]\n"
     ]
    }
   ],
   "source": [
    "for i in range (0,n):\n",
    "    for j in range (0,n):\n",
    "        d[i][j] = math.dist(x[i],x[j])\n",
    "# spatial.distance.cosine(x[i], x[j])\n",
    "print(d)\n"
   ]
  },
  {
   "cell_type": "markdown",
   "metadata": {},
   "source": [
    "# main code"
   ]
  },
  {
   "cell_type": "code",
   "execution_count": 157,
   "metadata": {},
   "outputs": [
    {
     "name": "stdout",
     "output_type": "stream",
     "text": [
      "[[0. 1. 7.]\n",
      " [1. 0. 7.]\n",
      " [2. 3. 1.]\n",
      " [3. 2. 1.]\n",
      " [4. 5. 6.]\n",
      " [5. 4. 7.]\n",
      " [6. 7. 4.]\n",
      " [7. 6. 5.]\n",
      " [9. 9. 3.]\n",
      " [9. 9. 3.]]\n"
     ]
    },
    {
     "data": {
      "text/plain": [
       "[1, 1, 2, 2, 7, 7, 7, 7, 8, 9]"
      ]
     },
     "execution_count": 157,
     "metadata": {},
     "output_type": "execute_result"
    }
   ],
   "source": [
    "def key_clustering( dd , c_target, k1 , g ):\n",
    "\n",
    "\n",
    "########################################### initial\n",
    "\n",
    "        n = dd.shape[0]\n",
    "        k = k1+1\n",
    "        end_key = 2\n",
    "        list_k=[]\n",
    "        r = np.zeros((n,k))\n",
    "\n",
    "############################################ calculate R\n",
    "        for i in range (0,n):\n",
    "                list_k = sorted(dd[i])[0:k] # take 2 min value k = 2 \n",
    "                for j in range(0,n):  # finde index of that vslues\n",
    "                        for x in range(0,len(list_k)):\n",
    "                                if dd[i][j] == list_k[x] :\n",
    "                                        r[i][x] = j\n",
    "                                # if dd[i][j] == y:\n",
    "                                #         r[i][1] = j \n",
    "                        \n",
    "        print(r)                        \n",
    "        l = [0,1,2,3,4,5,6,7,8,9]\n",
    "        c_per = n\n",
    "        c_cur = math.floor(n/g)\n",
    "        s_cur = []\n",
    "        ########################### calculate d_cur\n",
    "\n",
    "        for i in range (0,n):\n",
    "                for j in range(0,n):\n",
    "                        temp = 0\n",
    "                        for a in range (0,k):\n",
    "                                for b in range (0,k):\n",
    "                                            temp = temp + dd[int(r[i][a] ),int(r[j][b])]\n",
    "                        d_cur[i][j] = temp / ((k)*(k))\n",
    "        \n",
    "\n",
    "        ############## loop #############\n",
    "\n",
    "        while c_cur > c_target :\n",
    "                s_cur = detect_key(d_cur ,c_cur)\n",
    "\n",
    "                ############## update labels ##############\n",
    "                for i in range(len(l)):\n",
    "                        \n",
    "                        min = 80000\n",
    "\n",
    "                        if(l[i] not in s_cur):\n",
    "                                for j in s_cur:\n",
    "                                        if d_cur[l[i],j] < min:\n",
    "                                                min = d_cur[ l[i] , j ]\n",
    "                                                index = j\n",
    "                                l[i] = index\n",
    "        \n",
    "                \n",
    "                #################  update distance ###############\n",
    "\n",
    "\n",
    "                from collections import Counter\n",
    "\n",
    "                unique_values =list( Counter(l).keys()) # equals to list(set(words))\n",
    "                unique_count = list(Counter(l).values()) # counts the elements' frequency\n",
    "                # print(l)\n",
    "                # print(unique_values)\n",
    "                # print(unique_count)\n",
    "                samp = []\n",
    "\n",
    "                for i in unique_count:\n",
    "                        e = np.zeros((i*(3)))\n",
    "                        samp.append(e)\n",
    "                \n",
    "                p = []\n",
    "                \n",
    "                for x in range(0,len(unique_values)):\n",
    "                                nn = 0\n",
    "                                for y in range(0,len(l)):\n",
    "                                        if unique_values[x] == l[y]:\n",
    "\n",
    "                                                samp[x][nn] = y\n",
    "                                                nn = nn+1\n",
    "\n",
    "                                                for i in range(1,k):\n",
    "                                                        samp[x][nn] = r[y][i] \n",
    "                                                        nn = nn+1\n",
    "\n",
    "                sample = []\n",
    "\n",
    "                # for x in range(0, len(samp)):\n",
    "                #         unique_numbers = set(samp[x])\n",
    "                #         nn= 0                               \n",
    "                #         for number in unique_numbers:\n",
    "                #                 samp[x][nn] = (number)\n",
    "                #                 nn=1+nn\n",
    "\n",
    "                #         w = np.zeros((nn))\n",
    "                #         for t in range(0, nn):\n",
    "                #                 w[t] = samp[x][t]\n",
    "\n",
    "                #         sample.append(w)\n",
    "\n",
    "\n",
    "\n",
    "                lo = []\n",
    "\n",
    "                for e in samp:\n",
    "                        lo.append(list(map(int, e))) \n",
    "                \n",
    "\n",
    "                label_dict = dict(zip(unique_values, lo))\n",
    "\n",
    "                for x,y  in label_dict.items():\n",
    "                        for p,q in label_dict.items():\n",
    "                                sum  = 0\n",
    "                                for a in y:\n",
    "                                       for b in q:\n",
    "                                               sum+=dd[a,b]\n",
    "\n",
    "                                d_cur[x,p] = sum /(len(q)*len(y))\n",
    "\n",
    "                c_per = c_cur\n",
    "                c_cur = math.floor(c_cur/g)\n",
    "\n",
    "\n",
    "\n",
    "        s_final = detect_key(d_cur ,c_target)\n",
    "\n",
    "                  ############## update labels ##############\n",
    "\n",
    "        for i in range(len(l)):\n",
    "                min = 80000\n",
    "                if(l[i] not in s_final):\n",
    "                        for j in s_final:\n",
    "                                if d_cur[l[i],j] < min:\n",
    "                                        min = d_cur[ l[i] , j ]\n",
    "                                        index = j\n",
    "                        l[i] = index\n",
    "        # count = 0\n",
    "                # for j in s_final:\n",
    "                #         if(l[i] != j):\n",
    "                #                 count+=1\n",
    "                # if(count == len(s_final)):# l[i] != in s_final\n",
    "                #         for j in s_final:\n",
    "                #                 if d_cur[l[i],j] < min:\n",
    "                #                         min = d_cur[ l[i] , j ]\n",
    "                #                         index = j\n",
    "                #         l[i] = index\n",
    "\n",
    "        return l\n",
    "                \n",
    "\n",
    "\n",
    "\n",
    "\n",
    "dd = np.copy(d)\n",
    "c_target = 5\n",
    "k1 = 2\n",
    "g = 3\n",
    "key_clustering( dd, c_target, k1 , g  )\n",
    "\n"
   ]
  },
  {
   "cell_type": "markdown",
   "metadata": {},
   "source": [
    "# finde keys"
   ]
  },
  {
   "cell_type": "code",
   "execution_count": 155,
   "metadata": {},
   "outputs": [],
   "source": [
    "def detect_key(d_cur , c_cur):\n",
    "    m = d_cur.shape[0]\n",
    "    temp = []\n",
    "    k = []\n",
    "    s = []\n",
    "    n = 0\n",
    "#############   find I1    ############# min mean\n",
    "\n",
    "    for i in range (0,m):# i1\n",
    "        sum = 0\n",
    "        for j in range (0,m):\n",
    "            sum += d_cur[i][j]\n",
    "\n",
    "        temp.append(sum / m) \n",
    "\n",
    "    i1 = temp.index(sorted(temp)[0])  \n",
    "\n",
    "\n",
    "    for t in range (0,m):# update s and k for i1\n",
    "        if t != i1:\n",
    "            k.append(t)\n",
    "    s.append(i1)\n",
    "\n",
    "########################################\n",
    "\n",
    "\n",
    "\n",
    "    while( n < c_cur-1 ):\n",
    "        min_i = []\n",
    "#############   find In    ############# max min\n",
    "\n",
    "        for i in k: #finde min \n",
    "            min = 8000\n",
    "            for j in s:\n",
    "                if d_cur[i][j] < min:\n",
    "                    min = d_cur[i][j]\n",
    "            min_i.append(min)# list of min values in each row\n",
    "\n",
    "        p = 0\n",
    "        for i in k:# find max of mins\n",
    "            for j in s:\n",
    "                if d_cur[i][j] == max( min_i):\n",
    "                    i_n = i\n",
    "                    k.remove(i_n)\n",
    "                    p = 1\n",
    "                    break\n",
    "            if p == 1:\n",
    "                break\n",
    "\n",
    "        s.append(i_n)\n",
    "\n",
    "        # unique_numbers = set(s)\n",
    "        # ss = []\n",
    "\n",
    "        # for number in unique_numbers:\n",
    "        #     ss.append(number)\n",
    "        # s = ss\n",
    "        n+=1\n",
    "    return s\n",
    "\n",
    "     \n",
    "\n"
   ]
  },
  {
   "cell_type": "code",
   "execution_count": null,
   "metadata": {},
   "outputs": [],
   "source": []
  }
 ],
 "metadata": {
  "interpreter": {
   "hash": "da4c3f81425fee378717d63d377c57be77f21b14730899cca1fa55cca1d69c10"
  },
  "kernelspec": {
   "display_name": "Python 3.9.7 ('env1')",
   "language": "python",
   "name": "python3"
  },
  "language_info": {
   "codemirror_mode": {
    "name": "ipython",
    "version": 3
   },
   "file_extension": ".py",
   "mimetype": "text/x-python",
   "name": "python",
   "nbconvert_exporter": "python",
   "pygments_lexer": "ipython3",
   "version": "3.9.7"
  },
  "orig_nbformat": 4
 },
 "nbformat": 4,
 "nbformat_minor": 2
}
